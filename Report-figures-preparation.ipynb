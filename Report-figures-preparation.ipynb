{
 "cells": [
  {
   "cell_type": "code",
   "execution_count": 10,
   "id": "7efe0000-0ac2-45cb-bcdb-fcebb382c917",
   "metadata": {
    "tags": []
   },
   "outputs": [
    {
     "name": "stdout",
     "output_type": "stream",
     "text": [
      "CCL\n",
      "RCL\n",
      "PARA\n",
      "NFLX\n",
      "NCLH\n",
      "NUE\n",
      "BIIB\n",
      "VTRS\n",
      "FCX\n",
      "URI\n",
      "SWK\n",
      "BAX\n",
      "WBD\n",
      "INTC\n",
      "WST\n",
      "TFX\n",
      "FIS\n",
      "MRNA\n",
      "CPAY\n",
      "GNRC\n",
      "BA\n",
      "CTLT\n",
      "TSLA\n",
      "CVX\n",
      "KMX\n",
      "D\n",
      "CHTR\n",
      "GPN\n"
     ]
    }
   ],
   "source": [
    "import pandas as pd\n",
    "\n",
    "# Загрузить CSV файл\n",
    "df = pd.read_csv('data/portfolio_history.csv')\n",
    "\n",
    "# Получить уникальные значения из колонки 'Ticker'\n",
    "unique_tickers = df['Ticker'].unique()\n",
    "\n",
    "# Вывести список уникальных тикеров\n",
    "for ticker in unique_tickers:\n",
    "    print(ticker)"
   ]
  },
  {
   "cell_type": "code",
   "execution_count": 20,
   "id": "436b94dc-bd25-4be8-9603-6a780efd08af",
   "metadata": {
    "tags": []
   },
   "outputs": [
    {
     "name": "stdout",
     "output_type": "stream",
     "text": [
      "              MSE        MAE       MAPE\n",
      "BA     109.732594   8.567351   5.044649\n",
      "BAX      2.589261   1.206027   1.637690\n",
      "BIIB   200.349968  13.459646   6.310808\n",
      "CCL      1.104698   0.855783   4.746389\n",
      "CHTR   339.786473  13.979228   2.559187\n",
      "CPAY    43.408229   4.880357   2.092568\n",
      "CTLT    18.758179   3.339155   3.236103\n",
      "CVX     19.883818   3.232485   2.349084\n",
      "D        5.119043   2.024686   2.778089\n",
      "FCX      4.494222   1.660006   4.025746\n",
      "FIS     13.845291   2.835391   3.009018\n",
      "GNRC   290.947146  13.646511   4.938963\n",
      "GPN     16.012985   3.075353   2.340087\n",
      "INTC     3.426934   1.518005   3.433510\n",
      "KMX     14.410603   3.064782   2.897743\n",
      "MRNA   212.184078  11.816901   6.955580\n",
      "NCLH     1.191396   0.888011   4.643833\n",
      "NFLX  1965.008666  31.448564  10.974075\n",
      "NUE     54.870387   5.714621   4.566702\n",
      "PARA     2.582809   1.212535   4.104667\n",
      "RCL     19.960797   3.706063   4.926618\n",
      "SWK     23.298174   3.692259   2.620367\n",
      "TFX     97.453736   7.607749   2.477954\n",
      "TSLA   343.646335  14.869653   4.884321\n",
      "URI    176.802392  10.731431   3.468490\n",
      "VTRS     0.350637   0.401171   3.954481\n",
      "WBD      2.038975   1.187300   4.840960\n",
      "WST    269.598525  13.377606   3.432316\n",
      "Данные сохранены в файл portfolio_tickers_model_performance.csv\n"
     ]
    }
   ],
   "source": [
    "import pandas as pd\n",
    "\n",
    "# Загрузить файл с производительностью моделей\n",
    "performance_df = pd.read_csv('data/model_performance.csv', index_col=0)\n",
    "\n",
    "# Фильтруем DataFrame по уникальным тикерам\n",
    "filtered_performance = performance_df.loc[performance_df.index.isin(unique_tickers)]\n",
    "\n",
    "# Выводим отфильтрованный DataFrame\n",
    "print(filtered_performance)\n",
    "\n",
    "# Сохраняем отфильтрованный DataFrame в новый CSV файл\n",
    "filtered_performance.to_csv('data/portfolio_tickers_model_performance.csv')\n",
    "\n",
    "print(\"Данные сохранены в файл portfolio_tickers_model_performance.csv\")"
   ]
  },
  {
   "cell_type": "code",
   "execution_count": null,
   "id": "db8de5a1-45ee-4262-be97-fc0e906e7f9a",
   "metadata": {},
   "outputs": [],
   "source": []
  }
 ],
 "metadata": {
  "kernelspec": {
   "display_name": "Python 3 (ipykernel)",
   "language": "python",
   "name": "python3"
  },
  "language_info": {
   "codemirror_mode": {
    "name": "ipython",
    "version": 3
   },
   "file_extension": ".py",
   "mimetype": "text/x-python",
   "name": "python",
   "nbconvert_exporter": "python",
   "pygments_lexer": "ipython3",
   "version": "3.11.5"
  }
 },
 "nbformat": 4,
 "nbformat_minor": 5
}
