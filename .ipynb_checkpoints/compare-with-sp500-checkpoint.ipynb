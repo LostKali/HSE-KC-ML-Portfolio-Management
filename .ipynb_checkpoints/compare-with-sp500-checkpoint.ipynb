{
 "cells": [
  {
   "cell_type": "code",
   "execution_count": 2,
   "id": "fe509bd4-3695-4180-b3de-63b4cf17ac27",
   "metadata": {
    "tags": []
   },
   "outputs": [
    {
     "name": "stderr",
     "output_type": "stream",
     "text": [
      "[*********************100%***********************]  1 of 1 completed\n",
      "/Users/kate/anaconda3/lib/python3.11/site-packages/numpy/core/fromnumeric.py:3464: RuntimeWarning: Mean of empty slice.\n",
      "  return _methods._mean(a, axis=axis, dtype=dtype,\n",
      "/Users/kate/anaconda3/lib/python3.11/site-packages/numpy/core/_methods.py:192: RuntimeWarning: invalid value encountered in scalar divide\n",
      "  ret = ret.dtype.type(ret / rcount)\n"
     ]
    },
    {
     "name": "stdout",
     "output_type": "stream",
     "text": [
      "Quarter 2020Q1: Portfolio Return = nan, SP500 Return = -0.20665776189333546\n",
      "Quarter 2020Q2: Portfolio Return = 0.0006266978832665374, SP500 Return = 0.2549241202438778\n",
      "Недостаточно данных для тикера PLTR в квартале 2020Q3, пропускаем.\n",
      "Quarter 2020Q3: Portfolio Return = 7.175800890659031e-05, SP500 Return = 0.07931674852457143\n",
      "Quarter 2020Q4: Portfolio Return = 2.5561973633190555e-05, SP500 Return = 0.11100035911953106\n",
      "Quarter 2021Q1: Portfolio Return = 0.0004829019786031414, SP500 Return = 0.07356545401983472\n"
     ]
    },
    {
     "name": "stderr",
     "output_type": "stream",
     "text": [
      "/Users/kate/anaconda3/lib/python3.11/site-packages/numpy/core/fromnumeric.py:3464: RuntimeWarning: Mean of empty slice.\n",
      "  return _methods._mean(a, axis=axis, dtype=dtype,\n",
      "/Users/kate/anaconda3/lib/python3.11/site-packages/numpy/core/_methods.py:192: RuntimeWarning: invalid value encountered in scalar divide\n",
      "  ret = ret.dtype.type(ret / rcount)\n"
     ]
    },
    {
     "name": "stdout",
     "output_type": "stream",
     "text": [
      "Quarter 2021Q2: Portfolio Return = nan, SP500 Return = 0.06906439131589247\n",
      "Quarter 2021Q3: Portfolio Return = -1.018896285059484e-05, SP500 Return = -0.002870387670184488\n",
      "Quarter 2021Q4: Portfolio Return = 0.0005053756150337742, SP500 Return = 0.09390323087478082\n"
     ]
    },
    {
     "name": "stderr",
     "output_type": "stream",
     "text": [
      "/Users/kate/anaconda3/lib/python3.11/site-packages/numpy/core/fromnumeric.py:3464: RuntimeWarning: Mean of empty slice.\n",
      "  return _methods._mean(a, axis=axis, dtype=dtype,\n",
      "/Users/kate/anaconda3/lib/python3.11/site-packages/numpy/core/_methods.py:192: RuntimeWarning: invalid value encountered in scalar divide\n",
      "  ret = ret.dtype.type(ret / rcount)\n"
     ]
    },
    {
     "name": "stdout",
     "output_type": "stream",
     "text": [
      "Quarter 2022Q1: Portfolio Return = nan, SP500 Return = -0.05548766180189966\n"
     ]
    },
    {
     "name": "stderr",
     "output_type": "stream",
     "text": [
      "/Users/kate/anaconda3/lib/python3.11/site-packages/numpy/core/fromnumeric.py:3464: RuntimeWarning: Mean of empty slice.\n",
      "  return _methods._mean(a, axis=axis, dtype=dtype,\n",
      "/Users/kate/anaconda3/lib/python3.11/site-packages/numpy/core/_methods.py:192: RuntimeWarning: invalid value encountered in scalar divide\n",
      "  ret = ret.dtype.type(ret / rcount)\n"
     ]
    },
    {
     "name": "stdout",
     "output_type": "stream",
     "text": [
      "Quarter 2022Q2: Portfolio Return = nan, SP500 Return = -0.16729067840640108\n",
      "Quarter 2022Q3: Portfolio Return = 0.0007204224703193639, SP500 Return = -0.06266386325934904\n",
      "Quarter 2022Q4: Portfolio Return = 0.0011603440490343838, SP500 Return = 0.043787722303449114\n"
     ]
    },
    {
     "ename": "TypeError",
     "evalue": "float() argument must be a string or a real number, not 'Period'",
     "output_type": "error",
     "traceback": [
      "\u001b[0;31m---------------------------------------------------------------------------\u001b[0m",
      "\u001b[0;31mTypeError\u001b[0m                                 Traceback (most recent call last)",
      "Cell \u001b[0;32mIn[2], line 153\u001b[0m\n\u001b[1;32m    150\u001b[0m     \u001b[38;5;28mprint\u001b[39m(\u001b[38;5;124mf\u001b[39m\u001b[38;5;124m\"\u001b[39m\u001b[38;5;124mQuarter \u001b[39m\u001b[38;5;132;01m{\u001b[39;00mquarter\u001b[38;5;132;01m}\u001b[39;00m\u001b[38;5;124m: Portfolio Return = \u001b[39m\u001b[38;5;132;01m{\u001b[39;00mportfolio_returns\u001b[38;5;132;01m}\u001b[39;00m\u001b[38;5;124m, SP500 Return = \u001b[39m\u001b[38;5;132;01m{\u001b[39;00msp500_return\u001b[38;5;132;01m}\u001b[39;00m\u001b[38;5;124m\"\u001b[39m)\n\u001b[1;32m    152\u001b[0m \u001b[38;5;66;03m# Визуализация результатов\u001b[39;00m\n\u001b[0;32m--> 153\u001b[0m plt\u001b[38;5;241m.\u001b[39mplot(quarters, portfolio_performance, label\u001b[38;5;241m=\u001b[39m\u001b[38;5;124m'\u001b[39m\u001b[38;5;124mPortfolio Performance\u001b[39m\u001b[38;5;124m'\u001b[39m)\n\u001b[1;32m    154\u001b[0m plt\u001b[38;5;241m.\u001b[39mplot(quarters, index_performance, label\u001b[38;5;241m=\u001b[39m\u001b[38;5;124m'\u001b[39m\u001b[38;5;124mSP500 Performance\u001b[39m\u001b[38;5;124m'\u001b[39m, linestyle\u001b[38;5;241m=\u001b[39m\u001b[38;5;124m'\u001b[39m\u001b[38;5;124m--\u001b[39m\u001b[38;5;124m'\u001b[39m)\n\u001b[1;32m    155\u001b[0m plt\u001b[38;5;241m.\u001b[39mtitle(\u001b[38;5;124m'\u001b[39m\u001b[38;5;124mQuarterly Portfolio vs SP500 Returns\u001b[39m\u001b[38;5;124m'\u001b[39m)\n",
      "File \u001b[0;32m~/anaconda3/lib/python3.11/site-packages/matplotlib/pyplot.py:2812\u001b[0m, in \u001b[0;36mplot\u001b[0;34m(scalex, scaley, data, *args, **kwargs)\u001b[0m\n\u001b[1;32m   2810\u001b[0m \u001b[38;5;129m@_copy_docstring_and_deprecators\u001b[39m(Axes\u001b[38;5;241m.\u001b[39mplot)\n\u001b[1;32m   2811\u001b[0m \u001b[38;5;28;01mdef\u001b[39;00m \u001b[38;5;21mplot\u001b[39m(\u001b[38;5;241m*\u001b[39margs, scalex\u001b[38;5;241m=\u001b[39m\u001b[38;5;28;01mTrue\u001b[39;00m, scaley\u001b[38;5;241m=\u001b[39m\u001b[38;5;28;01mTrue\u001b[39;00m, data\u001b[38;5;241m=\u001b[39m\u001b[38;5;28;01mNone\u001b[39;00m, \u001b[38;5;241m*\u001b[39m\u001b[38;5;241m*\u001b[39mkwargs):\n\u001b[0;32m-> 2812\u001b[0m     \u001b[38;5;28;01mreturn\u001b[39;00m gca()\u001b[38;5;241m.\u001b[39mplot(\n\u001b[1;32m   2813\u001b[0m         \u001b[38;5;241m*\u001b[39margs, scalex\u001b[38;5;241m=\u001b[39mscalex, scaley\u001b[38;5;241m=\u001b[39mscaley,\n\u001b[1;32m   2814\u001b[0m         \u001b[38;5;241m*\u001b[39m\u001b[38;5;241m*\u001b[39m({\u001b[38;5;124m\"\u001b[39m\u001b[38;5;124mdata\u001b[39m\u001b[38;5;124m\"\u001b[39m: data} \u001b[38;5;28;01mif\u001b[39;00m data \u001b[38;5;129;01mis\u001b[39;00m \u001b[38;5;129;01mnot\u001b[39;00m \u001b[38;5;28;01mNone\u001b[39;00m \u001b[38;5;28;01melse\u001b[39;00m {}), \u001b[38;5;241m*\u001b[39m\u001b[38;5;241m*\u001b[39mkwargs)\n",
      "File \u001b[0;32m~/anaconda3/lib/python3.11/site-packages/matplotlib/axes/_axes.py:1690\u001b[0m, in \u001b[0;36mAxes.plot\u001b[0;34m(self, scalex, scaley, data, *args, **kwargs)\u001b[0m\n\u001b[1;32m   1688\u001b[0m lines \u001b[38;5;241m=\u001b[39m [\u001b[38;5;241m*\u001b[39m\u001b[38;5;28mself\u001b[39m\u001b[38;5;241m.\u001b[39m_get_lines(\u001b[38;5;241m*\u001b[39margs, data\u001b[38;5;241m=\u001b[39mdata, \u001b[38;5;241m*\u001b[39m\u001b[38;5;241m*\u001b[39mkwargs)]\n\u001b[1;32m   1689\u001b[0m \u001b[38;5;28;01mfor\u001b[39;00m line \u001b[38;5;129;01min\u001b[39;00m lines:\n\u001b[0;32m-> 1690\u001b[0m     \u001b[38;5;28mself\u001b[39m\u001b[38;5;241m.\u001b[39madd_line(line)\n\u001b[1;32m   1691\u001b[0m \u001b[38;5;28;01mif\u001b[39;00m scalex:\n\u001b[1;32m   1692\u001b[0m     \u001b[38;5;28mself\u001b[39m\u001b[38;5;241m.\u001b[39m_request_autoscale_view(\u001b[38;5;124m\"\u001b[39m\u001b[38;5;124mx\u001b[39m\u001b[38;5;124m\"\u001b[39m)\n",
      "File \u001b[0;32m~/anaconda3/lib/python3.11/site-packages/matplotlib/axes/_base.py:2304\u001b[0m, in \u001b[0;36m_AxesBase.add_line\u001b[0;34m(self, line)\u001b[0m\n\u001b[1;32m   2301\u001b[0m \u001b[38;5;28;01mif\u001b[39;00m line\u001b[38;5;241m.\u001b[39mget_clip_path() \u001b[38;5;129;01mis\u001b[39;00m \u001b[38;5;28;01mNone\u001b[39;00m:\n\u001b[1;32m   2302\u001b[0m     line\u001b[38;5;241m.\u001b[39mset_clip_path(\u001b[38;5;28mself\u001b[39m\u001b[38;5;241m.\u001b[39mpatch)\n\u001b[0;32m-> 2304\u001b[0m \u001b[38;5;28mself\u001b[39m\u001b[38;5;241m.\u001b[39m_update_line_limits(line)\n\u001b[1;32m   2305\u001b[0m \u001b[38;5;28;01mif\u001b[39;00m \u001b[38;5;129;01mnot\u001b[39;00m line\u001b[38;5;241m.\u001b[39mget_label():\n\u001b[1;32m   2306\u001b[0m     line\u001b[38;5;241m.\u001b[39mset_label(\u001b[38;5;124mf\u001b[39m\u001b[38;5;124m'\u001b[39m\u001b[38;5;124m_child\u001b[39m\u001b[38;5;132;01m{\u001b[39;00m\u001b[38;5;28mlen\u001b[39m(\u001b[38;5;28mself\u001b[39m\u001b[38;5;241m.\u001b[39m_children)\u001b[38;5;132;01m}\u001b[39;00m\u001b[38;5;124m'\u001b[39m)\n",
      "File \u001b[0;32m~/anaconda3/lib/python3.11/site-packages/matplotlib/axes/_base.py:2327\u001b[0m, in \u001b[0;36m_AxesBase._update_line_limits\u001b[0;34m(self, line)\u001b[0m\n\u001b[1;32m   2323\u001b[0m \u001b[38;5;28;01mdef\u001b[39;00m \u001b[38;5;21m_update_line_limits\u001b[39m(\u001b[38;5;28mself\u001b[39m, line):\n\u001b[1;32m   2324\u001b[0m \u001b[38;5;250m    \u001b[39m\u001b[38;5;124;03m\"\"\"\u001b[39;00m\n\u001b[1;32m   2325\u001b[0m \u001b[38;5;124;03m    Figures out the data limit of the given line, updating self.dataLim.\u001b[39;00m\n\u001b[1;32m   2326\u001b[0m \u001b[38;5;124;03m    \"\"\"\u001b[39;00m\n\u001b[0;32m-> 2327\u001b[0m     path \u001b[38;5;241m=\u001b[39m line\u001b[38;5;241m.\u001b[39mget_path()\n\u001b[1;32m   2328\u001b[0m     \u001b[38;5;28;01mif\u001b[39;00m path\u001b[38;5;241m.\u001b[39mvertices\u001b[38;5;241m.\u001b[39msize \u001b[38;5;241m==\u001b[39m \u001b[38;5;241m0\u001b[39m:\n\u001b[1;32m   2329\u001b[0m         \u001b[38;5;28;01mreturn\u001b[39;00m\n",
      "File \u001b[0;32m~/anaconda3/lib/python3.11/site-packages/matplotlib/lines.py:1028\u001b[0m, in \u001b[0;36mLine2D.get_path\u001b[0;34m(self)\u001b[0m\n\u001b[1;32m   1026\u001b[0m \u001b[38;5;250m\u001b[39m\u001b[38;5;124;03m\"\"\"Return the `~matplotlib.path.Path` associated with this line.\"\"\"\u001b[39;00m\n\u001b[1;32m   1027\u001b[0m \u001b[38;5;28;01mif\u001b[39;00m \u001b[38;5;28mself\u001b[39m\u001b[38;5;241m.\u001b[39m_invalidy \u001b[38;5;129;01mor\u001b[39;00m \u001b[38;5;28mself\u001b[39m\u001b[38;5;241m.\u001b[39m_invalidx:\n\u001b[0;32m-> 1028\u001b[0m     \u001b[38;5;28mself\u001b[39m\u001b[38;5;241m.\u001b[39mrecache()\n\u001b[1;32m   1029\u001b[0m \u001b[38;5;28;01mreturn\u001b[39;00m \u001b[38;5;28mself\u001b[39m\u001b[38;5;241m.\u001b[39m_path\n",
      "File \u001b[0;32m~/anaconda3/lib/python3.11/site-packages/matplotlib/lines.py:659\u001b[0m, in \u001b[0;36mLine2D.recache\u001b[0;34m(self, always)\u001b[0m\n\u001b[1;32m    657\u001b[0m \u001b[38;5;28;01mif\u001b[39;00m always \u001b[38;5;129;01mor\u001b[39;00m \u001b[38;5;28mself\u001b[39m\u001b[38;5;241m.\u001b[39m_invalidx:\n\u001b[1;32m    658\u001b[0m     xconv \u001b[38;5;241m=\u001b[39m \u001b[38;5;28mself\u001b[39m\u001b[38;5;241m.\u001b[39mconvert_xunits(\u001b[38;5;28mself\u001b[39m\u001b[38;5;241m.\u001b[39m_xorig)\n\u001b[0;32m--> 659\u001b[0m     x \u001b[38;5;241m=\u001b[39m _to_unmasked_float_array(xconv)\u001b[38;5;241m.\u001b[39mravel()\n\u001b[1;32m    660\u001b[0m \u001b[38;5;28;01melse\u001b[39;00m:\n\u001b[1;32m    661\u001b[0m     x \u001b[38;5;241m=\u001b[39m \u001b[38;5;28mself\u001b[39m\u001b[38;5;241m.\u001b[39m_x\n",
      "File \u001b[0;32m~/anaconda3/lib/python3.11/site-packages/matplotlib/cbook/__init__.py:1340\u001b[0m, in \u001b[0;36m_to_unmasked_float_array\u001b[0;34m(x)\u001b[0m\n\u001b[1;32m   1338\u001b[0m     \u001b[38;5;28;01mreturn\u001b[39;00m np\u001b[38;5;241m.\u001b[39mma\u001b[38;5;241m.\u001b[39masarray(x, \u001b[38;5;28mfloat\u001b[39m)\u001b[38;5;241m.\u001b[39mfilled(np\u001b[38;5;241m.\u001b[39mnan)\n\u001b[1;32m   1339\u001b[0m \u001b[38;5;28;01melse\u001b[39;00m:\n\u001b[0;32m-> 1340\u001b[0m     \u001b[38;5;28;01mreturn\u001b[39;00m np\u001b[38;5;241m.\u001b[39masarray(x, \u001b[38;5;28mfloat\u001b[39m)\n",
      "\u001b[0;31mTypeError\u001b[0m: float() argument must be a string or a real number, not 'Period'"
     ]
    },
    {
     "data": {
      "image/png": "[encoded data removed]",
      "text/plain": [
       "<Figure size 640x480 with 1 Axes>"
      ]
     },
     "metadata": {},
     "output_type": "display_data"
    }
   ],
   "source": [
    "import pandas as pd\n",
    "import numpy as np\n",
    "import yfinance as yf\n",
    "from sklearn.model_selection import train_test_split\n",
    "from sklearn.ensemble import RandomForestRegressor\n",
    "from sklearn.metrics import mean_squared_error\n",
    "import matplotlib.pyplot as plt\n",
    "from scipy.stats import pearsonr\n",
    "\n",
    "# Загрузка данных из CSV файла\n",
    "data = pd.read_csv('sp500_historical_data.csv')\n",
    "\n",
    "# Преобразуем столбец 'Date' в формат datetime\n",
    "data['Date'] = pd.to_datetime(data['Date'])\n",
    "\n",
    "# Добавим квартальные метки\n",
    "data['Quarter'] = data['Date'].dt.to_period('Q')\n",
    "\n",
    "# Загрузка данных по индексу S&P 500 с Yahoo Finance\n",
    "sp500_data = yf.download('^GSPC', start='2010-01-01', end='2024-01-01')\n",
    "sp500_data.reset_index(inplace=True)\n",
    "sp500_data['Date'] = pd.to_datetime(sp500_data['Date'])\n",
    "sp500_data['Quarter'] = sp500_data['Date'].dt.to_period('Q')\n",
    "\n",
    "# Функция для включения акции в портфель\n",
    "def include_in_portfolio(probability, expected_return, win_loss_ratio, min_kelly_fraction=0.01):\n",
    "    \"\"\"\n",
    "    Функция для определения, следует ли включать актив в портфель.\n",
    "    Возвращает оптимальную долю или None, если актив не удовлетворяет критериям.\n",
    "    \"\"\"\n",
    "    # Расчет доли по критерию Келли\n",
    "    kelly_fraction = kelly_criterion(probability, win_loss_ratio)\n",
    "    \n",
    "    # Условие включения в портфель: например, если доля по Келли положительная и больше минимума\n",
    "    if kelly_fraction > min_kelly_fraction and expected_return > 0 and probability > 0.5:\n",
    "        return kelly_fraction\n",
    "    else:\n",
    "        return None\n",
    "\n",
    "# Функция для расчета критерия Келли\n",
    "def kelly_criterion(probability, win_loss_ratio):\n",
    "    return (probability * (win_loss_ratio + 1) - 1) / win_loss_ratio\n",
    "\n",
    "# Функция для подготовки данных\n",
    "def prepare_data(df, ticker):\n",
    "    df_ticker = df[df['Ticker'] == ticker].copy()\n",
    "    df_ticker['Target'] = df_ticker['Adj Close'].shift(-1)  # Целевая переменная - цена на следующий день\n",
    "    df_ticker = df_ticker.dropna()\n",
    "    \n",
    "    # Выбор фич для модели\n",
    "    X = df_ticker[['Open', 'High', 'Low', 'Close', 'Volume']]\n",
    "    y = df_ticker['Target']\n",
    "    \n",
    "    return X, y, df_ticker\n",
    "\n",
    "# Функция для предсказания цены\n",
    "def predict_price(X_train, y_train, X_test):\n",
    "    model = RandomForestRegressor(n_estimators=100, random_state=42)\n",
    "    model.fit(X_train, y_train)\n",
    "    y_pred = model.predict(X_test)\n",
    "    return y_pred\n",
    "\n",
    "# Функция для получения квартальной доходности индекса\n",
    "def get_quarterly_return(df, quarter):\n",
    "    df_quarter = df[df['Quarter'] == quarter]\n",
    "    if len(df_quarter) > 0:\n",
    "        start_price = df_quarter.iloc[0]['Adj Close']\n",
    "        end_price = df_quarter.iloc[-1]['Adj Close']\n",
    "        return (end_price - start_price) / start_price\n",
    "    else:\n",
    "        return 0\n",
    "\n",
    "# Основной цикл по кварталам\n",
    "quarters = data['Quarter'].unique()\n",
    "portfolio_performance = []\n",
    "index_performance = []\n",
    "\n",
    "for quarter in quarters:\n",
    "    portfolio = {}\n",
    "    quarterly_data = data[data['Quarter'] == quarter]\n",
    "    \n",
    "    tickers = quarterly_data['Ticker'].unique()\n",
    "\n",
    "    # Создаем список для хранения акций, которые удовлетворяют критериям\n",
    "    candidates = []\n",
    "\n",
    "    # Фильтр для каждого тикера\n",
    "    for ticker in tickers:\n",
    "        X, y, df_ticker = prepare_data(quarterly_data, ticker)\n",
    "        \n",
    "        # Проверка на наличие достаточного количества данных\n",
    "        if len(X) > 1:  # Должно быть хотя бы 2 строки данных для разделения\n",
    "            # Разделение на обучающую и тестовую выборки\n",
    "            X_train, X_test, y_train, y_test = train_test_split(X, y, test_size=0.2, random_state=42)\n",
    "            \n",
    "            # Предсказание цены\n",
    "            y_pred = predict_price(X_train, y_train, X_test)\n",
    "            \n",
    "            # Оценка вероятности того, что доходность будет положительной\n",
    "            prob = (y_pred > X_test['Close']).mean()\n",
    "            \n",
    "            # Ожидаемая доходность\n",
    "            expected_return = np.mean(y_pred - X_test['Close'])\n",
    "            \n",
    "            # Коэффициент выигрыша к проигрышу\n",
    "            win_loss_ratio = expected_return / np.std(y_pred)\n",
    "            \n",
    "            # Проверка условий включения в портфель\n",
    "            kelly_fraction = include_in_portfolio(prob, expected_return, win_loss_ratio)\n",
    "            if kelly_fraction is not None:\n",
    "                candidates.append((ticker, expected_return, kelly_fraction))\n",
    "        else:\n",
    "            print(f\"Недостаточно данных для тикера {ticker} в квартале {quarter}, пропускаем.\")\n",
    "    \n",
    "    # Сортировка акций по ожидаемой доходности от большего к меньшему\n",
    "    candidates.sort(key=lambda x: x[1], reverse=True)\n",
    "\n",
    "    # Включаем первые 10 акций с наибольшей ожидаемой доходностью в портфель\n",
    "    for candidate in candidates[:10]:\n",
    "        ticker, expected_return, kelly_fraction = candidate\n",
    "        portfolio[ticker] = kelly_fraction\n",
    "\n",
    "    # Удаление акций с высокой корреляцией с SP500\n",
    "    for ticker in list(portfolio.keys()):\n",
    "        df_ticker = quarterly_data[quarterly_data['Ticker'] == ticker][['Date', 'Adj Close']]\n",
    "        df_sp500 = sp500_data[sp500_data['Quarter'] == quarter][['Date', 'Adj Close']]\n",
    "\n",
    "        # Объединение данных по дате, чтобы синхронизировать длины\n",
    "        merged_df = pd.merge(df_ticker, df_sp500, on='Date', suffixes=('_ticker', '_sp500'))\n",
    "\n",
    "        # Проверяем, что есть достаточно данных для вычисления корреляции\n",
    "        if len(merged_df) > 1:\n",
    "            correlation, _ = pearsonr(merged_df['Adj Close_ticker'], merged_df['Adj Close_sp500'])\n",
    "            if correlation > 0.9:\n",
    "                del portfolio[ticker]\n",
    "\n",
    "    # Формируем DataFrame с тикерами и их долями\n",
    "    portfolio_df = pd.DataFrame.from_dict(portfolio, orient='index', columns=['Kelly Fraction'])\n",
    "    portfolio_df = portfolio_df[portfolio_df['Kelly Fraction'] > 0]  # Убираем активы с отрицательной долей\n",
    "\n",
    "    # Оценка доходности портфеля\n",
    "    portfolio_returns = np.mean([quarterly_data[quarterly_data['Ticker'] == ticker]['Adj Close'].pct_change().mean() * portfolio_df.loc[ticker, 'Kelly Fraction'] \n",
    "                                 for ticker in portfolio_df.index])\n",
    "    portfolio_performance.append(portfolio_returns)\n",
    "\n",
    "    # Оценка доходности индекса SP500 за квартал\n",
    "    sp500_return = get_quarterly_return(sp500_data, quarter)\n",
    "    index_performance.append(sp500_return)\n",
    "\n",
    "    print(f\"Quarter {quarter}: Portfolio Return = {portfolio_returns}, SP500 Return = {sp500_return}\")\n",
    "\n",
    "# Визуализация результатов\n",
    "plt.plot(quarters, portfolio_performance, label='Portfolio Performance')\n",
    "plt.plot(quarters, index_performance, label='SP500 Performance', linestyle='--')\n",
    "plt.title('Quarterly Portfolio vs SP500 Returns')\n",
    "plt.xlabel('Quarter')\n",
    "plt.ylabel('Return')\n",
    "plt.legend()\n",
    "plt.xticks(rotation=45)\n",
    "plt.show()"
   ]
  }
 ],
 "metadata": {
  "kernelspec": {
   "display_name": "Python 3 (ipykernel)",
   "language": "python",
   "name": "python3"
  },
  "language_info": {
   "codemirror_mode": {
    "name": "ipython",
    "version": 3
   },
   "file_extension": ".py",
   "mimetype": "text/x-python",
   "name": "python",
   "nbconvert_exporter": "python",
   "pygments_lexer": "ipython3",
   "version": "3.11.5"
  }
 },
 "nbformat": 4,
 "nbformat_minor": 5
}
