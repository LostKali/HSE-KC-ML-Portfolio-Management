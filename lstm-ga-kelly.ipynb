{
 "cells": [
  {
   "cell_type": "code",
   "execution_count": 137,
   "id": "e458641a-a5dd-4d10-9825-d63e772bd97a",
   "metadata": {
    "tags": []
   },
   "outputs": [],
   "source": [
    "# Импорт стандартных библиотек\n",
    "import pandas as pd\n",
    "import numpy as np\n",
    "import random\n",
    "\n",
    "import os\n",
    "\n",
    "# Для разделения данных и предобработки\n",
    "from sklearn.preprocessing import MinMaxScaler\n",
    "from sklearn.model_selection import train_test_split\n",
    "\n",
    "# Для построения модели LSTM\n",
    "from tensorflow.keras.models import Sequential, load_model\n",
    "from tensorflow.keras.layers import LSTM, Dense, Dropout, Input\n",
    "\n",
    "# Для генетического алгоритма\n",
    "from deap import base, creator, tools, algorithms\n",
    "\n",
    "# Для оценки модели\n",
    "from sklearn.metrics import mean_squared_error, mean_absolute_error\n",
    "\n",
    "# Для визуализации\n",
    "import matplotlib.pyplot as plt\n",
    "%matplotlib inline\n",
    "\n",
    "# Дополнительные библиотеки\n",
    "import tensorflow as tf\n",
    "import warnings\n",
    "warnings.filterwarnings(\"ignore\")\n",
    "\n",
    "import joblib\n",
    "import yfinance as yf\n",
    "from scipy.stats import shapiro, ttest_rel"
   ]
  },
  {
   "cell_type": "markdown",
   "id": "3436192b-0051-4fb7-9150-0349b7a29fc2",
   "metadata": {},
   "source": [
    "# Этап 1: Подготовка данных"
   ]
  },
  {
   "cell_type": "markdown",
   "id": "1b3b157e-4e9b-4b5f-b196-5cbbe644c44a",
   "metadata": {},
   "source": [
    "#### Загрузка данных"
   ]
  },
  {
   "cell_type": "code",
   "execution_count": 81,
   "id": "32f8fcbe-2a3e-47bf-a3c8-5f84a3f17357",
   "metadata": {
    "tags": []
   },
   "outputs": [],
   "source": [
    "data = pd.read_csv('data/sp500_historical_data.csv')"
   ]
  },
  {
   "cell_type": "markdown",
   "id": "2c02a6e8-530b-4409-9c13-0d845cf73e49",
   "metadata": {},
   "source": [
    "#### Преобразование столбца даты"
   ]
  },
  {
   "cell_type": "code",
   "execution_count": 84,
   "id": "67ad233c-0ba6-4815-848f-d9549f10ed95",
   "metadata": {
    "tags": []
   },
   "outputs": [],
   "source": [
    "data['Date'] = pd.to_datetime(data['Date'])"
   ]
  },
  {
   "cell_type": "markdown",
   "id": "ad5e8fd4-2d86-4d35-b239-cd860eae2f74",
   "metadata": {},
   "source": [
    "#### Удаление данных за выходные дни"
   ]
  },
  {
   "cell_type": "code",
   "execution_count": 87,
   "id": "f53168d0-609a-47c8-881d-de31e48280f9",
   "metadata": {
    "tags": []
   },
   "outputs": [],
   "source": [
    "data = data[data['Date'].dt.weekday < 5]"
   ]
  },
  {
   "cell_type": "markdown",
   "id": "a5bbf4b5-3e29-483c-9eea-4880e451bd0c",
   "metadata": {},
   "source": [
    "#### Определение полного диапазона дат"
   ]
  },
  {
   "cell_type": "code",
   "execution_count": 90,
   "id": "1b42412c-1295-4673-a6b1-523651cf127c",
   "metadata": {
    "tags": []
   },
   "outputs": [],
   "source": [
    "full_date_range = pd.date_range(start=data['Date'].min(), end=data['Date'].max(), freq='B')  # 'B' обозначает бизнес-день"
   ]
  },
  {
   "cell_type": "markdown",
   "id": "dd08be41-6ecd-46fd-b9c2-410ea99d82ea",
   "metadata": {},
   "source": [
    "#### Проверка наличия данных по каждому тикеру"
   ]
  },
  {
   "cell_type": "code",
   "execution_count": 93,
   "id": "bc23a5c0-1335-43a9-84c9-7e323c77d1dd",
   "metadata": {
    "tags": []
   },
   "outputs": [],
   "source": [
    "data_pivot = data.pivot_table(index='Date', columns='Ticker', values='Adj Close')\n",
    "missing_percent = data_pivot.isnull().mean() * 100\n",
    "tickers_to_remove = missing_percent[missing_percent > 5].index.tolist()\n",
    "clean_data = data[~data['Ticker'].isin(tickers_to_remove)]"
   ]
  },
  {
   "cell_type": "markdown",
   "id": "1129b7cb-ed8e-413a-95f3-4a3365b2cb96",
   "metadata": {},
   "source": [
    "#### Проверка на дупликаты"
   ]
  },
  {
   "cell_type": "code",
   "execution_count": 96,
   "id": "31568333-bc8c-4c79-ae39-9a3e7459a859",
   "metadata": {
    "tags": []
   },
   "outputs": [],
   "source": [
    "clean_data = clean_data.drop_duplicates()"
   ]
  },
  {
   "cell_type": "markdown",
   "id": "0d627aac-121f-4348-906c-d3ad3c70d7e4",
   "metadata": {},
   "source": [
    "#### Обработка подозрительно низкого объема торгов"
   ]
  },
  {
   "cell_type": "code",
   "execution_count": 99,
   "id": "6e62f7e3-6f03-44b8-acb4-f3dcf9793178",
   "metadata": {
    "tags": []
   },
   "outputs": [],
   "source": [
    "volume_threshold = clean_data['Volume'].quantile(0.01)\n",
    "low_volume_data = clean_data[clean_data['Volume'] <= volume_threshold]\n",
    "low_volume_data.to_csv('data/low_volume_records.csv', index=False)"
   ]
  },
  {
   "cell_type": "markdown",
   "id": "c276abb6-b1e8-49a4-824f-62f774c426da",
   "metadata": {},
   "source": [
    "#### Проверка размерности данных"
   ]
  },
  {
   "cell_type": "code",
   "execution_count": 102,
   "id": "658c43d8-f800-4a27-ac69-a0b4012a7a99",
   "metadata": {
    "tags": []
   },
   "outputs": [],
   "source": [
    "data_pivot_clean = clean_data.pivot_table(index='Date', columns='Ticker', values='Adj Close')\n",
    "missing_dates_per_ticker = data_pivot_clean.isnull().sum()\n",
    "tickers_with_missing_dates = missing_dates_per_ticker[missing_dates_per_ticker > 0].index.tolist()\n",
    "clean_data = clean_data[~clean_data['Ticker'].isin(tickers_with_missing_dates)]"
   ]
  },
  {
   "cell_type": "markdown",
   "id": "cc594fb4-b964-4686-aecd-ddaf647c8e19",
   "metadata": {},
   "source": [
    "#### Сохранение очищенных данных"
   ]
  },
  {
   "cell_type": "code",
   "execution_count": 105,
   "id": "9fc75e58-8b78-40a8-abc7-0c2442c9f43d",
   "metadata": {
    "tags": []
   },
   "outputs": [],
   "source": [
    "clean_tickers = clean_data['Ticker'].unique()\n",
    "cleaned_data = data.sort_values(['Ticker', 'Date']).reset_index(drop=True)\n",
    "clean_data.to_csv('data/cleaned_sp500_data.csv', index=False)"
   ]
  },
  {
   "cell_type": "markdown",
   "id": "e67968b9-44b5-4cac-95cc-df1c8612aede",
   "metadata": {},
   "source": [
    "#### Разделение данных на обучающую и тестовую выборки"
   ]
  },
  {
   "cell_type": "code",
   "execution_count": 107,
   "id": "ea6cecf1-1e7a-4583-9747-a9d00ea21490",
   "metadata": {
    "tags": []
   },
   "outputs": [
    {
     "name": "stdout",
     "output_type": "stream",
     "text": [
      "Дата разделения данных: 2022-05-25\n",
      "Размер обучающей выборки: 298427 записей\n",
      "Размер тестовой выборки: 74756 записей\n"
     ]
    }
   ],
   "source": [
    "# Получение минимальной и максимальной даты\n",
    "min_date = data['Date'].min()\n",
    "max_date = data['Date'].max()\n",
    "\n",
    "# Общий период времени\n",
    "total_days = (max_date - min_date).days\n",
    "\n",
    "# Дата разделения (80% от общего периода)\n",
    "split_date = min_date + pd.Timedelta(days=int(total_days * 0.8))\n",
    "\n",
    "print(f\"Дата разделения данных: {split_date.date()}\")\n",
    "# Обучающая выборка: данные до даты разделения (включительно)\n",
    "train_data = data[data['Date'] <= split_date]\n",
    "\n",
    "# Тестовая выборка: данные после даты разделения\n",
    "test_data = data[data['Date'] > split_date]\n",
    "print(f\"Размер обучающей выборки: {len(train_data)} записей\")\n",
    "print(f\"Размер тестовой выборки: {len(test_data)} записей\")\n",
    "\n",
    "\n",
    "# Сохранение обучающей выборки\n",
    "train_data.to_csv('data/sp500_train_data.csv', index=False)\n",
    "\n",
    "# Сохранение тестовой выборки\n",
    "test_data.to_csv('data/sp500_test_data.csv', index=False)"
   ]
  },
  {
   "cell_type": "markdown",
   "id": "edf16ce0-743c-4585-9841-bacc1c75990c",
   "metadata": {},
   "source": [
    "#### Сбор информации о секторах"
   ]
  },
  {
   "cell_type": "code",
   "execution_count": 111,
   "id": "dc875be1-2972-450d-b7b8-4f496e1d0a8e",
   "metadata": {
    "tags": []
   },
   "outputs": [],
   "source": [
    "# Получение списка уникальных тикеров\n",
    "tickers = data['Ticker'].unique()\n",
    "\n",
    "# Инициализация словаря для хранения информации о секторах\n",
    "ticker_sectors = {}\n",
    "\n",
    "# Получение информации о секторах для каждого тикера\n",
    "for ticker in tickers:\n",
    "    try:\n",
    "        stock_info = yf.Ticker(ticker).info\n",
    "        sector = stock_info.get('sector', 'Unknown')\n",
    "        ticker_sectors[ticker] = sector\n",
    "    except Exception as e:\n",
    "        print(f\"Не удалось получить данные для {ticker}: {e}\")\n",
    "        ticker_sectors[ticker] = 'Unknown'\n",
    "\n",
    "# Создание DataFrame из словаря\n",
    "sectors_df = pd.DataFrame.from_dict(ticker_sectors, orient='index', columns=['Sector'])\n",
    "\n",
    "sectors_df.to_csv('data/sectors.csv')"
   ]
  },
  {
   "cell_type": "code",
   "execution_count": 113,
   "id": "f4dad8a6-dd57-4530-8d9c-85fc3d61d16e",
   "metadata": {
    "tags": []
   },
   "outputs": [
    {
     "name": "stdout",
     "output_type": "stream",
     "text": [
      "   Total Tickers Before Filtering  Tickers Removed Due to Missing Data  \\\n",
      "0                             496                                    6   \n",
      "\n",
      "   Tickers Removed Due to Low Volume  Tickers Remaining for Analysis  \n",
      "0                                 62                             490  \n"
     ]
    }
   ],
   "source": [
    "# Получение списка уникальных тикеров до и после фильтрации\n",
    "original_tickers = data['Ticker'].unique()\n",
    "filtered_tickers = clean_data['Ticker'].unique()\n",
    "# Фильтрация по объему\n",
    "low_volume_tickers = low_volume_data['Ticker'].unique()\n",
    "\n",
    "# Создание таблицы с информацией о фильтрации\n",
    "summary_data = {\n",
    "    \"Total Tickers Before Filtering\": [len(original_tickers)],\n",
    "    \"Tickers Removed Due to Missing Data\": [len(tickers_to_remove)],\n",
    "    \"Tickers Removed Due to Low Volume\": [len(low_volume_tickers)],\n",
    "    \"Tickers Remaining for Analysis\": [len(filtered_tickers)]\n",
    "}\n",
    "\n",
    "summary_df = pd.DataFrame(summary_data)\n",
    "\n",
    "# Сохранение таблицы в CSV файл\n",
    "summary_df.to_csv('data/summary_preprocessing.csv', index=False)\n",
    "\n",
    "# Печать таблицы\n",
    "print(summary_df)\n"
   ]
  },
  {
   "cell_type": "markdown",
   "id": "a9cda131-ab1b-4486-a65f-128a75f67ab9",
   "metadata": {
    "tags": []
   },
   "source": [
    "# Этап 2: Построение и оптимизация модели LSTM с помощью GA"
   ]
  },
  {
   "cell_type": "markdown",
   "id": "2e1014f0-1b08-47cc-968f-e7058f4fe227",
   "metadata": {},
   "source": [
    "#### Загрузка очищенных данных"
   ]
  },
  {
   "cell_type": "code",
   "execution_count": 227,
   "id": "2a62bdda-ce2c-4733-b073-c0a5e8edcbc1",
   "metadata": {
    "tags": []
   },
   "outputs": [],
   "source": [
    "# Загрузка обучающих данных\n",
    "train_data = pd.read_csv('data/sp500_train_data.csv')\n",
    "\n",
    "# Преобразование столбца 'Date' в формат datetime\n",
    "train_data['Date'] = pd.to_datetime(train_data['Date'])\n",
    "\n",
    "# Сортировка данных\n",
    "train_data = train_data.sort_values(['Ticker', 'Date']).reset_index(drop=True)"
   ]
  },
  {
   "cell_type": "markdown",
   "id": "21c1376d-00d1-437b-a132-2c0dd7d60969",
   "metadata": {},
   "source": [
    "#### Подготовка данных"
   ]
  },
  {
   "cell_type": "code",
   "execution_count": 23,
   "id": "0991312c-39ad-4cf3-9914-c1f9173616fb",
   "metadata": {
    "tags": []
   },
   "outputs": [],
   "source": [
    "# Определение параметров\n",
    "TIME_STEPS = 30  # Длина последовательности для входа в LSTM\n",
    "\n",
    "# Инициализация словарей для хранения результатов\n",
    "models = {}\n",
    "scalers = {}\n",
    "volatility = {}\n",
    "performance = {}"
   ]
  },
  {
   "cell_type": "markdown",
   "id": "589fac95-f43f-4ad0-851f-442fba6ca898",
   "metadata": {},
   "source": [
    "#### Установка random для воспроизведения"
   ]
  },
  {
   "cell_type": "code",
   "execution_count": 233,
   "id": "de7e79ab-2508-412b-9934-c49541e412d4",
   "metadata": {},
   "outputs": [],
   "source": [
    "random.seed(42)\n",
    "np.random.seed(42)\n",
    "tf.random.set_seed(42)"
   ]
  },
  {
   "cell_type": "markdown",
   "id": "fd6bfc3c-f221-44a1-b83d-d787b51ab2f7",
   "metadata": {},
   "source": [
    "#### Определение функций для подготовки данных"
   ]
  },
  {
   "cell_type": "code",
   "execution_count": 236,
   "id": "0d7426f2-5de6-43aa-ae12-328fa4abf6a1",
   "metadata": {
    "tags": []
   },
   "outputs": [],
   "source": [
    "def create_sequences(data, time_steps=TIME_STEPS):\n",
    "    X = []\n",
    "    y = []\n",
    "    for i in range(len(data) - time_steps):\n",
    "        X.append(data[i:(i + time_steps)])\n",
    "        y.append(data[i + time_steps])\n",
    "    return np.array(X), np.array(y)"
   ]
  },
  {
   "cell_type": "markdown",
   "id": "1aebab5c-0b16-4008-b54b-0ec1ab0eb22e",
   "metadata": {},
   "source": [
    "#### Определение функции оценки модели"
   ]
  },
  {
   "cell_type": "code",
   "execution_count": 239,
   "id": "6e6192f2-2dd4-4caa-98ff-27909e97d21c",
   "metadata": {
    "tags": []
   },
   "outputs": [],
   "source": [
    "import tensorflow.keras.backend as K\n",
    "\n",
    "def evaluate_model(individual, X_train, y_train, X_val, y_val):\n",
    "    # Unpack hyperparameters\n",
    "    n_layers = individual[0]\n",
    "    n_neurons = individual[1]\n",
    "    dropout_rate = individual[2]\n",
    "    learning_rate = individual[3]\n",
    "\n",
    "    # Build the model\n",
    "    K.clear_session()\n",
    "    model = Sequential()\n",
    "    model.add(Input(shape=(X_train.shape[1], X_train.shape[2])))\n",
    "\n",
    "    if n_layers == 1:\n",
    "        # Single LSTM layer\n",
    "        model.add(LSTM(units=n_neurons, return_sequences=False))\n",
    "        model.add(Dropout(dropout_rate))\n",
    "    else:\n",
    "        # First LSTM layer\n",
    "        model.add(LSTM(units=n_neurons, return_sequences=True))\n",
    "        model.add(Dropout(dropout_rate))\n",
    "        # Middle LSTM layers\n",
    "        for _ in range(n_layers - 2):\n",
    "            model.add(LSTM(units=n_neurons, return_sequences=True))\n",
    "            model.add(Dropout(dropout_rate))\n",
    "        # Last LSTM layer\n",
    "        model.add(LSTM(units=n_neurons, return_sequences=False))\n",
    "        model.add(Dropout(dropout_rate))\n",
    "\n",
    "    model.add(Dense(1))\n",
    "\n",
    "    # Compile the model\n",
    "    optimizer = tf.keras.optimizers.Adam(learning_rate=learning_rate)\n",
    "    model.compile(loss='mean_squared_error', optimizer=optimizer)\n",
    "\n",
    "    # Train the model\n",
    "    history = model.fit(X_train, y_train, epochs=5, batch_size=32,\n",
    "                        validation_data=(X_val, y_val), verbose=0)\n",
    "\n",
    "    # Evaluate validation loss\n",
    "    val_loss = history.history['val_loss'][-1]\n",
    "\n",
    "    return val_loss,"
   ]
  },
  {
   "cell_type": "markdown",
   "id": "4a477a53-f2be-48d5-9289-67d48c83eb32",
   "metadata": {},
   "source": [
    "#### Определение процесса генетического алгоритма"
   ]
  },
  {
   "cell_type": "code",
   "execution_count": 242,
   "id": "d1967954-53bf-41f1-a992-786c6f00f418",
   "metadata": {
    "tags": []
   },
   "outputs": [],
   "source": [
    "def custom_mutation(individual, indpb):\n",
    "    for i in range(len(individual)):\n",
    "        if random.random() < indpb:\n",
    "            if i == 0:  # n_layers (целое число)\n",
    "                individual[i] = random.randint(1, 2)  # Максимум 2 слоя\n",
    "            elif i == 1:  # n_neurons (целое число)\n",
    "                individual[i] = random.randint(32, 128)  # От 32 до 128 нейронов\n",
    "            elif i == 2:  # dropout_rate (вещественное число)\n",
    "                individual[i] = random.uniform(0.0, 0.3)  # От 0.0 до 0.3\n",
    "            elif i == 3:  # learning_rate (вещественное число)\n",
    "                individual[i] = random.uniform(0.0005, 0.005)  # Уменьшенный диапазон\n",
    "    return individual,"
   ]
  },
  {
   "cell_type": "code",
   "execution_count": 244,
   "id": "6811865f-f93a-4f6f-b3a4-69ff17be345f",
   "metadata": {
    "tags": []
   },
   "outputs": [],
   "source": [
    "def optimize_model_with_ga(X_train, y_train, X_val, y_val, n_generations=3, population_size=5):\n",
    "    # Определение индивидуала и функции приспособленности\n",
    "    creator.create(\"FitnessMin\", base.Fitness, weights=(-1.0,))  # Минимизируем валидационную ошибку\n",
    "    creator.create(\"Individual\", list, fitness=creator.FitnessMin)\n",
    "\n",
    "    toolbox = base.Toolbox()\n",
    "\n",
    "    # Определение атрибутов для каждого гиперпараметра\n",
    "    toolbox.register(\"attr_n_layers\", random.randint, 1, 2)\n",
    "    toolbox.register(\"attr_n_neurons\", random.randint, 32, 128)\n",
    "    toolbox.register(\"attr_dropout_rate\", random.uniform, 0.0, 0.3)\n",
    "    toolbox.register(\"attr_learning_rate\", random.uniform, 0.0005, 0.005)\n",
    "\n",
    "    # Создание индивидуала\n",
    "    toolbox.register(\"individual\", tools.initCycle, creator.Individual,\n",
    "                     (toolbox.attr_n_layers, toolbox.attr_n_neurons, toolbox.attr_dropout_rate, toolbox.attr_learning_rate), n=1)\n",
    "\n",
    "    # Создание популяции\n",
    "    toolbox.register(\"population\", tools.initRepeat, list, toolbox.individual)\n",
    "\n",
    "    # Определение функции оценки\n",
    "    def eval_function(individual):\n",
    "        return evaluate_model(individual, X_train, y_train, X_val, y_val)\n",
    "\n",
    "    toolbox.register(\"evaluate\", eval_function)\n",
    "    toolbox.register(\"mate\", tools.cxUniform, indpb=0.5)\n",
    "    toolbox.register(\"mutate\", custom_mutation, indpb=0.2)\n",
    "    toolbox.register(\"select\", tools.selTournament, tournsize=3)\n",
    "\n",
    "    # Инициализация популяции\n",
    "    pop = toolbox.population(n=population_size)\n",
    "\n",
    "    # Использование Hall of Fame для отслеживания лучшего решения\n",
    "    hof = tools.HallOfFame(1)\n",
    "\n",
    "    # Параллельная оценка популяции\n",
    "    def eval_population(population):\n",
    "        fitnesses = Parallel(n_jobs=-1)(delayed(toolbox.evaluate)(ind) for ind in population)\n",
    "        for ind, fit in zip(population, fitnesses):\n",
    "            ind.fitness.values = fit\n",
    "\n",
    "    # Основной цикл GA\n",
    "    for gen in range(n_generations):\n",
    "        print(f\"Поколение {gen+1}/{n_generations}\")\n",
    "\n",
    "        # Оценка популяции\n",
    "        invalid_ind = [ind for ind in pop if not ind.fitness.valid]\n",
    "        if invalid_ind:\n",
    "            eval_population(invalid_ind)\n",
    "\n",
    "        # Обновление Hall of Fame\n",
    "        hof.update(pop)\n",
    "\n",
    "        # Применение операторов GA\n",
    "        offspring = algorithms.varAnd(pop, toolbox, cxpb=0.5, mutpb=0.2)\n",
    "\n",
    "        # Оценка потомков\n",
    "        invalid_offspring = [ind for ind in offspring if not ind.fitness.valid]\n",
    "        if invalid_offspring:\n",
    "            eval_population(invalid_offspring)\n",
    "        \n",
    "        # Вывод лучшей валидационной ошибки в текущем поколении\n",
    "        best = tools.selBest(pop, k=1)[0]\n",
    "        print(f\"Лучшая валидационная ошибка: {best.fitness.values[0]}\")\n",
    "\n",
    "        # Выбор новой популяции\n",
    "        pop = toolbox.select(pop + offspring, k=len(pop))\n",
    "\n",
    "    # Возвращаем лучший найденный индивидуал\n",
    "    best_individual = hof[0]\n",
    "    return best_individual"
   ]
  },
  {
   "cell_type": "markdown",
   "id": "2f3a2089-6ea2-4f64-bbe8-1460e4a2a766",
   "metadata": {},
   "source": [
    "#### Обучение модели для каждого тикера"
   ]
  },
  {
   "cell_type": "code",
   "execution_count": null,
   "id": "abe8d4a5-8b97-4195-b7d0-7b3d19287dbd",
   "metadata": {
    "tags": []
   },
   "outputs": [],
   "source": [
    "# Создание каталогов для сохранения моделей и графиков\n",
    "if not os.path.exists('models'):\n",
    "    os.makedirs('models')\n",
    "if not os.path.exists('plots'):\n",
    "    os.makedirs('plots')\n",
    "if not os.path.exists('scalers'):\n",
    "    os.makedirs('scalers')\n",
    "\n",
    "tickers = train_data['Ticker'].unique()\n",
    "\n",
    "# Цикл по каждому тикеру\n",
    "for ticker in tickers:\n",
    "    if not os.path.isfile(f'models/{ticker}_model.keras'):\n",
    "        print(f\"Обработка тикера: {ticker}\")\n",
    "\n",
    "        # Получение данных для тикера\n",
    "        df_ticker = train_data[train_data['Ticker'] == ticker].sort_values('Date')\n",
    "\n",
    "        # Используем 'Adj Close' в качестве целевой переменной\n",
    "        close_prices = df_ticker['Adj Close'].values.reshape(-1, 1)\n",
    "\n",
    "        # Проверка достаточности данных\n",
    "        if len(close_prices) <= TIME_STEPS:\n",
    "            print(f\"Недостаточно данных для тикера {ticker}\")\n",
    "            continue\n",
    "\n",
    "        # Масштабирование данных\n",
    "        scaler = MinMaxScaler(feature_range=(0, 1))\n",
    "        scaled_data = scaler.fit_transform(close_prices)\n",
    "        scalers[ticker] = scaler\n",
    "        \n",
    "        # Сохранение скейлера\n",
    "        scaler_filename = f'scalers/{ticker}_scaler.save'\n",
    "        joblib.dump(scaler, scaler_filename)\n",
    "\n",
    "        # Создание последовательностей\n",
    "        X, y = create_sequences(scaled_data)\n",
    "\n",
    "        # Проверка достаточности последовательностей\n",
    "        if len(X) == 0:\n",
    "            print(f\"Недостаточно последовательностей для тикера {ticker}\")\n",
    "            continue\n",
    "\n",
    "        # Разделение данных на обучающую и тестовую выборки (80% на обучение)\n",
    "        split_index = int(0.8 * len(X))\n",
    "        X_train_full, X_test = X[:split_index], X[split_index:]\n",
    "        y_train_full, y_test = y[:split_index], y[split_index:]\n",
    "\n",
    "        # Дополнительное разделение обучающих данных на обучение и валидацию (80% на обучение)\n",
    "        val_split_index = int(0.8 * len(X_train_full))\n",
    "        X_train, X_val = X_train_full[:val_split_index], X_train_full[val_split_index:]\n",
    "        y_train, y_val = y_train_full[:val_split_index], y_train_full[val_split_index:]\n",
    "\n",
    "        # Оптимизация модели с помощью GA\n",
    "        best_hyperparams = optimize_model_with_ga(X_train, y_train, X_val, y_val, n_generations=3, population_size=5)\n",
    "\n",
    "        # Извлечение лучших гиперпараметров\n",
    "        n_layers = best_hyperparams[0]\n",
    "        n_neurons = best_hyperparams[1]\n",
    "        dropout_rate = best_hyperparams[2]\n",
    "        learning_rate = best_hyperparams[3]\n",
    "\n",
    "        # Построение финальной модели с лучшими гиперпараметрами\n",
    "        K.clear_session()\n",
    "        model = Sequential()\n",
    "        model.add(Input(shape=(X_train_full.shape[1], X_train_full.shape[2])))\n",
    "\n",
    "        if n_layers == 1:\n",
    "            # Single LSTM layer\n",
    "            model.add(LSTM(units=n_neurons, return_sequences=False))\n",
    "            model.add(Dropout(dropout_rate))\n",
    "        else:\n",
    "            # First LSTM layer\n",
    "            model.add(LSTM(units=n_neurons, return_sequences=True))\n",
    "            model.add(Dropout(dropout_rate))\n",
    "            # Middle LSTM layers\n",
    "            for _ in range(n_layers - 2):\n",
    "                model.add(LSTM(units=n_neurons, return_sequences=True))\n",
    "                model.add(Dropout(dropout_rate))\n",
    "            # Last LSTM layer\n",
    "            model.add(LSTM(units=n_neurons, return_sequences=False))\n",
    "            model.add(Dropout(dropout_rate))\n",
    "\n",
    "        model.add(Dense(1))\n",
    "\n",
    "        # Compile the model\n",
    "        optimizer = tf.keras.optimizers.Adam(learning_rate=learning_rate)\n",
    "        model.compile(loss='mean_squared_error', optimizer=optimizer)\n",
    "\n",
    "        # Обучение финальной модели на полной обучающей выборке\n",
    "        model.fit(X_train_full, y_train_full, epochs=20, batch_size=32, verbose=0)\n",
    "\n",
    "        # Оценка модели на тестовых данных\n",
    "        y_pred = model.predict(X_test)\n",
    "        y_pred_inverse = scaler.inverse_transform(y_pred)\n",
    "        y_test_inverse = scaler.inverse_transform(y_test.reshape(-1, 1))\n",
    "\n",
    "        # Расчет метрик оценки\n",
    "        mse = mean_squared_error(y_test_inverse, y_pred_inverse)\n",
    "        mae = mean_absolute_error(y_test_inverse, y_pred_inverse)\n",
    "\n",
    "        performance[ticker] = {'MSE': mse, 'MAE': mae}\n",
    "\n",
    "        # Сохранение модели\n",
    "        model.save(f'models/{ticker}_model.keras')\n",
    "        models[ticker] = model\n",
    "\n",
    "        # Визуализация результатов\n",
    "        plt.figure(figsize=(10, 6))\n",
    "        plt.plot(y_test_inverse, label='Реальная цена')\n",
    "        plt.plot(y_pred_inverse, label='Предсказанная цена')\n",
    "        plt.title(f'Предсказание цены для {ticker}')\n",
    "        plt.xlabel('Время')\n",
    "        plt.ylabel('Цена')\n",
    "        plt.legend()\n",
    "        plt.savefig(f'plots/{ticker}_prediction.png')\n",
    "        plt.close()\n",
    "    else:\n",
    "        print(f\"Модель для тикера: {ticker} уже создана\")"
   ]
  },
  {
   "cell_type": "markdown",
   "id": "5d7dd8bf-9ffc-43c1-a4e0-e94c2d415792",
   "metadata": {},
   "source": [
    "#### Сохранение метрик модели"
   ]
  },
  {
   "cell_type": "code",
   "execution_count": 254,
   "id": "1883296e-38bc-4f8a-85e6-28b106bef6e6",
   "metadata": {
    "tags": []
   },
   "outputs": [],
   "source": [
    "# Преобразование словаря производительности в DataFrame\n",
    "performance_df = pd.DataFrame.from_dict(performance, orient='index')\n",
    "performance_df.to_csv('data/model_performance.csv')"
   ]
  },
  {
   "cell_type": "markdown",
   "id": "9547991a-b482-4a81-a244-1582739b76b8",
   "metadata": {},
   "source": [
    "# Этап 3: Формирование портфеля"
   ]
  },
  {
   "cell_type": "code",
   "execution_count": 8,
   "id": "391928df-7b3e-4154-a116-b6b3a976d55e",
   "metadata": {
    "tags": []
   },
   "outputs": [],
   "source": [
    "# Загрузка списка тикеров из файлов моделей\n",
    "model_files = os.listdir('models')\n",
    "clean_tickers = [filename.split('_model.keras')[0] for filename in model_files if filename.endswith('_model.keras')]"
   ]
  },
  {
   "cell_type": "code",
   "execution_count": 25,
   "id": "4664758f-f7b1-4b12-87d2-d5378c97e6a1",
   "metadata": {
    "tags": []
   },
   "outputs": [],
   "source": [
    "models = {}\n",
    "scalers = {}\n",
    "\n",
    "for ticker in clean_tickers:\n",
    "    model_path = f'models/{ticker}_model.keras'\n",
    "    scaler_path = f'scalers/{ticker}_scaler.save'\n",
    "    if os.path.exists(model_path) and os.path.exists(scaler_path):\n",
    "        models[ticker] = load_model(model_path)\n",
    "        scalers[ticker] = joblib.load(scaler_path)\n",
    "    else:\n",
    "        print(f\"Модель или скейлер для тикера {ticker} не найдены.\")"
   ]
  },
  {
   "cell_type": "code",
   "execution_count": 12,
   "id": "a4ab176e-05de-4e7e-9769-145d50fe32f3",
   "metadata": {
    "tags": []
   },
   "outputs": [],
   "source": [
    "# Загрузка тестовых данных\n",
    "test_data = pd.read_csv('data/sp500_test_data.csv')\n",
    "test_data['Date'] = pd.to_datetime(test_data['Date'])\n",
    "test_data = test_data.sort_values(['Date', 'Ticker']).reset_index(drop=True)"
   ]
  },
  {
   "cell_type": "code",
   "execution_count": 14,
   "id": "484e01e7-bf36-4918-806e-845ab2ff51ee",
   "metadata": {
    "tags": []
   },
   "outputs": [],
   "source": [
    "# Загрузка данных по индексу S&P 500\n",
    "sp500_data = pd.read_csv('data/sp500_index_data.csv')\n",
    "sp500_data['Date'] = pd.to_datetime(sp500_data['Date'])\n",
    "sp500_data = sp500_data.sort_values('Date').reset_index(drop=True)"
   ]
  },
  {
   "cell_type": "code",
   "execution_count": 16,
   "id": "5ed4195c-e410-43ae-976b-93161f815872",
   "metadata": {
    "tags": []
   },
   "outputs": [],
   "source": [
    "# Получение уникальных торговых дат в тестовом наборе данных\n",
    "test_dates = sorted(test_data['Date'].unique())\n",
    "\n",
    "# Выбор каждой 5-й даты для пересмотра портфеля\n",
    "review_dates = test_dates[::5]"
   ]
  },
  {
   "cell_type": "code",
   "execution_count": 12,
   "id": "7be5888b-5d8f-401c-8c17-106f38debb2e",
   "metadata": {
    "tags": []
   },
   "outputs": [],
   "source": [
    "portfolio_history = []\n",
    "portfolio_returns = []\n",
    "index_returns = []\n",
    "dates = []"
   ]
  },
  {
   "cell_type": "code",
   "execution_count": null,
   "id": "7342ed45-06b1-4014-a92f-b85a1539b5c6",
   "metadata": {
    "tags": []
   },
   "outputs": [],
   "source": [
    "TIME_STEPS = 30  # Длина последовательности для LSTM\n",
    "\n",
    "# Создание директории для сохранения предсказаний\n",
    "if not os.path.exists('predictions'):\n",
    "    os.makedirs('predictions')\n",
    "\n",
    "for i in range(len(review_dates) - 1):\n",
    "    current_date = review_dates[i]\n",
    "    print(f\"\\nПредсказание цен на дату: {current_date.date()}\")\n",
    "    \n",
    "    # Проверяем, сохранены ли предсказания для текущей даты\n",
    "    prediction_file = f'predictions/predictions_{current_date.date()}.csv'\n",
    "    if os.path.exists(prediction_file):\n",
    "        print(f\"Предсказания для {current_date.date()} уже сохранены.\")\n",
    "        continue\n",
    "    \n",
    "    # Словарь для хранения предсказаний\n",
    "    predictions_dict = {'Ticker': [], 'Predicted Price': []}\n",
    "    \n",
    "    for ticker in clean_tickers:\n",
    "        if ticker not in models or ticker not in scalers:\n",
    "            continue\n",
    "\n",
    "        # Получаем данные для тикера до текущей даты\n",
    "        df_ticker = test_data[(test_data['Ticker'] == ticker) & (test_data['Date'] <= current_date)].sort_values('Date')\n",
    "\n",
    "        # Проверяем, есть ли достаточное количество данных\n",
    "        if len(df_ticker) < TIME_STEPS + 7:\n",
    "            continue\n",
    "\n",
    "        # Получаем последние TIME_STEPS данных для предсказания\n",
    "        last_data = df_ticker.iloc[-TIME_STEPS:]\n",
    "        last_close_prices = last_data['Adj Close'].values.reshape(-1, 1)\n",
    "\n",
    "        # Масштабируем данные\n",
    "        scaler = scalers[ticker]\n",
    "        scaled_data = scaler.transform(last_close_prices)\n",
    "\n",
    "        # Формируем входные данные для модели\n",
    "        X_input = np.array([scaled_data])\n",
    "\n",
    "        # Делаем предсказание на 7 дней вперед\n",
    "        # Рекурсивное предсказание\n",
    "        predictions = []\n",
    "        current_input = X_input.copy()\n",
    "        for _ in range(7):\n",
    "            predicted_price = models[ticker].predict(current_input)\n",
    "            predictions.append(predicted_price[0, 0])\n",
    "\n",
    "            # Преобразуем predicted_price в правильную форму\n",
    "            predicted_price_reshaped = predicted_price.reshape((1, 1, 1))\n",
    "\n",
    "            # Обновляем current_input\n",
    "            current_input = np.concatenate((current_input[:, 1:, :], predicted_price_reshaped), axis=1)\n",
    "\n",
    "        # Обратное масштабирование предсказанных цен\n",
    "        predicted_prices = scaler.inverse_transform(np.array(predictions).reshape(-1, 1))\n",
    "\n",
    "        # Текущая цена\n",
    "        current_price = last_close_prices[-1, 0]\n",
    "\n",
    "        # Предсказанная цена через 7 дней\n",
    "        predicted_price_7d = predicted_prices[-1, 0]\n",
    "\n",
    "        # Сохраняем предсказанную цену\n",
    "        predictions_dict['Ticker'].append(ticker)\n",
    "        predictions_dict['Predicted Price'].append(predicted_price_7d)\n",
    "\n",
    "    # Сохранение предсказаний в CSV\n",
    "    predictions_df = pd.DataFrame(predictions_dict)\n",
    "    predictions_df.to_csv(prediction_file, index=False)\n",
    "    print(f\"Предсказания сохранены в {prediction_file}\")"
   ]
  },
  {
   "cell_type": "code",
   "execution_count": 26,
   "id": "abec5932-c7ba-4582-9ad3-7fca70970e39",
   "metadata": {},
   "outputs": [
    {
     "name": "stdout",
     "output_type": "stream",
     "text": [
      "\n",
      "Пересмотр портфеля на дату: 2022-05-26\n",
      "Нет доступных данных для составления портфеля на эту дату.\n",
      "\n",
      "Пересмотр портфеля на дату: 2022-06-03\n",
      "Нет доступных данных для составления портфеля на эту дату.\n",
      "\n",
      "Пересмотр портфеля на дату: 2022-06-10\n",
      "Нет доступных данных для составления портфеля на эту дату.\n",
      "\n",
      "Пересмотр портфеля на дату: 2022-06-17\n",
      "Нет доступных данных для составления портфеля на эту дату.\n",
      "\n",
      "Пересмотр портфеля на дату: 2022-06-27\n",
      "Нет доступных данных для составления портфеля на эту дату.\n",
      "\n",
      "Пересмотр портфеля на дату: 2022-07-05\n",
      "Нет доступных данных для составления портфеля на эту дату.\n",
      "\n",
      "Пересмотр портфеля на дату: 2022-07-12\n",
      "Нет доступных данных для составления портфеля на эту дату.\n",
      "\n",
      "Пересмотр портфеля на дату: 2022-07-19\n",
      "Нет доступных данных для составления портфеля на эту дату.\n",
      "\n",
      "Пересмотр портфеля на дату: 2022-07-26\n",
      "Доходность портфеля за период: 7.60%\n",
      "Доходность S&P 500 за период: 4.34%\n",
      "\n",
      "Пересмотр портфеля на дату: 2022-08-02\n",
      "Доходность портфеля за период: 0.40%\n",
      "Доходность S&P 500 за период: 0.76%\n",
      "\n",
      "Пересмотр портфеля на дату: 2022-08-09\n",
      "Доходность портфеля за период: 4.21%\n",
      "Доходность S&P 500 за период: 4.43%\n",
      "\n",
      "Пересмотр портфеля на дату: 2022-08-16\n",
      "Доходность портфеля за период: -7.58%\n",
      "Доходность S&P 500 за период: -4.10%\n",
      "\n",
      "Пересмотр портфеля на дату: 2022-08-23\n",
      "Доходность портфеля за период: -2.96%\n",
      "Доходность S&P 500 за период: -3.45%\n",
      "\n",
      "Пересмотр портфеля на дату: 2022-08-30\n",
      "Доходность портфеля за период: 0.42%\n",
      "Доходность S&P 500 за период: -0.16%\n",
      "\n",
      "Пересмотр портфеля на дату: 2022-09-07\n",
      "Доходность портфеля за период: 1.10%\n",
      "Доходность S&P 500 за период: -0.85%\n",
      "\n",
      "Пересмотр портфеля на дату: 2022-09-14\n",
      "Доходность портфеля за период: -4.28%\n",
      "Доходность S&P 500 за период: -3.96%\n",
      "\n",
      "Пересмотр портфеля на дату: 2022-09-21\n",
      "Доходность портфеля за период: 4.42%\n",
      "Доходность S&P 500 за период: -1.87%\n",
      "\n",
      "Пересмотр портфеля на дату: 2022-09-28\n",
      "Доходность портфеля за период: 2.90%\n",
      "Доходность S&P 500 за период: 1.73%\n",
      "\n",
      "Пересмотр портфеля на дату: 2022-10-05\n",
      "Доходность портфеля за период: -4.28%\n",
      "Доходность S&P 500 за период: -5.45%\n",
      "\n",
      "Пересмотр портфеля на дату: 2022-10-12\n",
      "Доходность портфеля за период: 3.28%\n",
      "Доходность S&P 500 за период: 3.30%\n",
      "\n",
      "Пересмотр портфеля на дату: 2022-10-19\n",
      "Доходность портфеля за период: 5.31%\n",
      "Доходность S&P 500 за период: 3.67%\n",
      "\n",
      "Пересмотр портфеля на дату: 2022-10-26\n",
      "Доходность портфеля за период: -0.72%\n",
      "Доходность S&P 500 за период: -1.85%\n",
      "\n",
      "Пересмотр портфеля на дату: 2022-11-02\n",
      "Доходность портфеля за период: -1.70%\n",
      "Доходность S&P 500 за период: -0.30%\n",
      "\n",
      "Пересмотр портфеля на дату: 2022-11-09\n",
      "Доходность портфеля за период: 7.91%\n",
      "Доходность S&P 500 за период: 5.61%\n",
      "\n",
      "Пересмотр портфеля на дату: 2022-11-16\n",
      "Доходность портфеля за период: 0.34%\n",
      "Доходность S&P 500 за период: 1.73%\n",
      "\n",
      "Пересмотр портфеля на дату: 2022-11-23\n",
      "Доходность портфеля за период: 1.66%\n",
      "Доходность S&P 500 за период: 1.22%\n",
      "\n",
      "Пересмотр портфеля на дату: 2022-12-01\n",
      "Доходность портфеля за период: -4.66%\n",
      "Доходность S&P 500 за период: -2.77%\n",
      "\n",
      "Пересмотр портфеля на дату: 2022-12-08\n",
      "Доходность портфеля за период: -1.34%\n",
      "Доходность S&P 500 за период: -1.71%\n",
      "\n",
      "Пересмотр портфеля на дату: 2022-12-15\n",
      "Доходность портфеля за период: -4.14%\n",
      "Доходность S&P 500 за период: -1.88%\n",
      "\n",
      "Пересмотр портфеля на дату: 2022-12-22\n",
      "Доходность портфеля за период: 1.97%\n",
      "Доходность S&P 500 за период: 0.45%\n"
     ]
    }
   ],
   "source": [
    "portfolio_history = []\n",
    "portfolio_returns = []\n",
    "index_returns = []\n",
    "dates = []\n",
    "\n",
    "for i in range(len(review_dates) - 1):\n",
    "    current_date = review_dates[i]\n",
    "    next_date = review_dates[i + 1]\n",
    "    print(f\"\\nПересмотр портфеля на дату: {current_date.date()}\")\n",
    "\n",
    "    # Загрузка предсказанных цен\n",
    "    prediction_file = f'predictions/predictions_{current_date.date()}.csv'\n",
    "    if not os.path.exists(prediction_file):\n",
    "        print(f\"Предсказания для {current_date.date()} не найдены. Пропуск даты.\")\n",
    "        continue\n",
    "\n",
    "    predictions_df = pd.read_csv(prediction_file)\n",
    "    predictions_df.set_index('Ticker', inplace=True)\n",
    "\n",
    "    # Словарь для хранения ожидаемой доходности и волатильности\n",
    "    expected_returns = {}\n",
    "\n",
    "    for ticker in predictions_df.index:\n",
    "        if ticker not in scalers:\n",
    "            continue\n",
    "\n",
    "        # Получаем данные для тикера до текущей даты\n",
    "        df_ticker = test_data[(test_data['Ticker'] == ticker) & (test_data['Date'] <= current_date)].sort_values('Date')\n",
    "\n",
    "        # Проверяем, есть ли достаточное количество данных\n",
    "        if len(df_ticker) < TIME_STEPS:\n",
    "            continue\n",
    "\n",
    "        # Текущая цена\n",
    "        current_price = df_ticker.iloc[-1]['Adj Close']\n",
    "\n",
    "        # Предсказанная цена через 7 дней\n",
    "        predicted_price_7d = predictions_df.loc[ticker]['Predicted Price']\n",
    "\n",
    "        # Рассчитываем ожидаемую доходность\n",
    "        expected_return = (predicted_price_7d - current_price) / current_price\n",
    "\n",
    "        # Волатильность рассчитываем на основе исторических данных\n",
    "        df_ticker['Return'] = df_ticker['Adj Close'].pct_change()\n",
    "        volatility = df_ticker['Return'].std()\n",
    "\n",
    "        # Сохраняем ожидаемую доходность и волатильность\n",
    "        expected_returns[ticker] = {\n",
    "            'Expected Return': expected_return,\n",
    "            'Volatility': volatility\n",
    "        }\n",
    "\n",
    "    # Преобразуем словарь в DataFrame\n",
    "    expected_returns_df = pd.DataFrame.from_dict(expected_returns, orient='index').dropna()\n",
    "\n",
    "    # Продолжаем только если есть данные\n",
    "    if expected_returns_df.empty:\n",
    "        print(\"Нет доступных данных для составления портфеля на эту дату.\")\n",
    "        continue\n",
    "\n",
    "    # Отбираем топ-10 акций по ожидаемой доходности\n",
    "    expected_returns_df = expected_returns_df.sort_values(by='Expected Return', ascending=False)\n",
    "    selected_tickers = expected_returns_df.head(10).index.tolist()\n",
    "\n",
    "    # Формируем DataFrame с выбранными акциями\n",
    "    portfolio_df = expected_returns_df.loc[selected_tickers]\n",
    "\n",
    "    # Расчет долей инвестиций по критерию Келли\n",
    "    portfolio_df['Kelly Fraction'] = portfolio_df.apply(\n",
    "        lambda row: row['Expected Return'] / (row['Volatility'] ** 2) if row['Volatility'] != 0 else 0, axis=1\n",
    "    )\n",
    "\n",
    "    #Убираем отрицательные значения\n",
    "    portfolio_df['Kelly Fraction'] = portfolio_df['Kelly Fraction'].clip(lower=0)\n",
    "\n",
    "    # Нормализуем доли, если сумма больше 1\n",
    "    total_fraction = portfolio_df['Kelly Fraction'].sum()\n",
    "    if total_fraction > 1:\n",
    "        portfolio_df['Kelly Fraction'] = portfolio_df['Kelly Fraction'] / total_fraction\n",
    "    else:\n",
    "        # Handle the case where the total_fraction is zero (all fractions are zero)\n",
    "        portfolio_df['Investment Fraction'] = 0\n",
    "\n",
    "    portfolio_df['Investment Fraction'] = portfolio_df['Kelly Fraction']\n",
    "\n",
    "    # Оценка фактической доходности портфеля за период\n",
    "    actual_returns = {}\n",
    "    for ticker in selected_tickers:\n",
    "        df_ticker = test_data[test_data['Ticker'] == ticker].sort_values('Date').reset_index(drop=True)\n",
    "        idx_current = df_ticker[df_ticker['Date'] == current_date].index\n",
    "        idx_next = df_ticker[df_ticker['Date'] == next_date].index\n",
    "        if len(idx_current) == 0 or len(idx_next) == 0:\n",
    "            continue\n",
    "        idx_current = idx_current[0]\n",
    "        idx_next = idx_next[0]\n",
    "        current_price = df_ticker.iloc[idx_current]['Adj Close']\n",
    "        next_price = df_ticker.iloc[idx_next]['Adj Close']\n",
    "        actual_return = (next_price - current_price) / current_price\n",
    "        actual_returns[ticker] = actual_return\n",
    "\n",
    "    # Добавляем фактическую доходность в DataFrame портфеля\n",
    "    portfolio_df['Actual Return'] = portfolio_df.index.map(actual_returns).fillna(0)\n",
    "\n",
    "    # Рассчитываем доходность портфеля за период\n",
    "    portfolio_return = (portfolio_df['Actual Return'] * portfolio_df['Investment Fraction']).sum()\n",
    "    portfolio_returns.append(portfolio_return)\n",
    "\n",
    "    # Рассчитываем доходность индекса за период\n",
    "    sp500_period_data = sp500_data[(sp500_data['Date'] >= current_date) & (sp500_data['Date'] <= next_date)].reset_index(drop=True)\n",
    "    if not sp500_period_data.empty:\n",
    "        sp500_start_price = sp500_period_data.iloc[0]['Adj Close']\n",
    "        sp500_end_price = sp500_period_data.iloc[-1]['Adj Close']\n",
    "        sp500_return = (sp500_end_price - sp500_start_price) / sp500_start_price\n",
    "    else:\n",
    "        sp500_return = 0\n",
    "    index_returns.append(sp500_return)\n",
    "\n",
    "    # Сохраняем дату\n",
    "    dates.append(next_date)\n",
    "\n",
    "    # Сохраняем текущий портфель с дополнительной информацией\n",
    "    portfolio_info = {\n",
    "        'Date': current_date,\n",
    "        'Portfolio': portfolio_df[['Investment Fraction']].to_dict('index'),\n",
    "        'Return': portfolio_return * 100,\n",
    "        'SP500 Return': sp500_return * 100\n",
    "    }\n",
    "    portfolio_history.append(portfolio_info)\n",
    "\n",
    "    print(f\"Доходность портфеля за период: {portfolio_return * 100:.2f}%\")\n",
    "    print(f\"Доходность S&P 500 за период: {sp500_return * 100:.2f}%\")"
   ]
  },
  {
   "cell_type": "code",
   "execution_count": 161,
   "id": "a8fb4cf5-1ce2-4da0-9d8f-0e2e646ebcfc",
   "metadata": {},
   "outputs": [
    {
     "name": "stdout",
     "output_type": "stream",
     "text": [
      "Кумулятивная доходность Kelly + LTSM + GA: 8.39%\n",
      "Кумулятивная доходность S&P 500: -2.08%\n"
     ]
    },
    {
     "data": {
      "image/png": "[encoded data removed]",
      "text/plain": [
       "<Figure size 1200x600 with 1 Axes>"
      ]
     },
     "metadata": {},
     "output_type": "display_data"
    },
    {
     "name": "stdout",
     "output_type": "stream",
     "text": [
      "График сохранен в 'reports/portfolio_return_comparision.png'\n",
      "Mean Weekly Return for the Kelly + LTSM + GA: 0.45%\n",
      "Standard Deviation of Weekly Returns for the Kelly + LTSM + GA: 4.11%\n",
      "Mean Weekly Return for the S&P 500: -0.05%\n",
      "Standard Deviation of Weekly Returns for the S&P 500: 3.07%\n"
     ]
    }
   ],
   "source": [
    "import pandas as pd\n",
    "import matplotlib.pyplot as plt\n",
    "import os\n",
    "\n",
    "# Создание DataFrame для сравнения\n",
    "comparison_df = pd.DataFrame({\n",
    "    'Date': dates,  # Даты, которые ты уже должен иметь в переменной `dates`\n",
    "    'Portfolio Return': portfolio_returns,  # Данные о доходности твоего портфеля\n",
    "    'Index Return': index_returns  # Доходность S&P 500 или другого индекса\n",
    "})\n",
    "\n",
    "# Рассчитываем кумулятивную доходность\n",
    "comparison_df['Portfolio Cumulative Return'] = (1 + comparison_df['Portfolio Return']).cumprod() - 1\n",
    "comparison_df['Index Cumulative Return'] = (1 + comparison_df['Index Return']).cumprod() - 1\n",
    "\n",
    "# Вывод финальных значений кумулятивной доходности\n",
    "final_portfolio_cumulative_return = comparison_df['Portfolio Cumulative Return'].iloc[-1]\n",
    "final_index_cumulative_return = comparison_df['Index Cumulative Return'].iloc[-1]\n",
    "\n",
    "print(f\"Кумулятивная доходность Kelly + LTSM + GA: {final_portfolio_cumulative_return * 100:.2f}%\")\n",
    "print(f\"Кумулятивная доходность S&P 500: {final_index_cumulative_return * 100:.2f}%\")\n",
    "\n",
    "# Визуализация результатов\n",
    "plt.figure(figsize=(12, 6))\n",
    "plt.plot(comparison_df['Date'], comparison_df['Portfolio Cumulative Return'] * 100, label='Ваш портфель')\n",
    "plt.plot(comparison_df['Date'], comparison_df['Index Cumulative Return'] * 100, label='S&P 500')\n",
    "plt.xlabel('Дата')\n",
    "plt.ylabel('Кумулятивная доходность (%)')\n",
    "plt.title('Сравнение доходности портфелей')\n",
    "plt.legend()\n",
    "plt.grid(True)\n",
    "plt.show()\n",
    "\n",
    "# Для отчета: сохраняем в папку reports\n",
    "if not os.path.exists('reports'):\n",
    "    os.makedirs('reports')\n",
    "\n",
    "plt.figure(figsize=(12, 6))\n",
    "plt.plot(comparison_df['Date'], comparison_df['Portfolio Cumulative Return'] * 100, label='Kelly + LTSM + GA Portfolio')\n",
    "plt.plot(comparison_df['Date'], comparison_df['Index Cumulative Return'] * 100, label='S&P 500')\n",
    "plt.xlabel('Date')\n",
    "plt.ylabel('Cumulative Return (%)')\n",
    "plt.title('Returns Comparison')\n",
    "plt.legend()\n",
    "plt.grid(True)\n",
    "\n",
    "# Сохраняем изображение\n",
    "plt.savefig(f'reports/portfolio_return_comparision.png')\n",
    "plt.close()\n",
    "\n",
    "print(\"График сохранен в 'reports/portfolio_return_comparision.png'\")\n",
    "\n",
    "# Рассчитываем недельную доходность\n",
    "comparison_df['Week'] = comparison_df['Date'].dt.to_period('W')  # Преобразуем даты в недельные периоды\n",
    "weekly_returns = comparison_df.groupby('Week').agg({\n",
    "    'Portfolio Return': 'sum',\n",
    "    'Index Return': 'sum'\n",
    "}).reset_index()\n",
    "\n",
    "# Вычисляем среднюю и стандартное отклонение недельных доходов\n",
    "mean_weekly_portfolio_return = weekly_returns['Portfolio Return'].mean()\n",
    "std_weekly_portfolio_return = weekly_returns['Portfolio Return'].std()\n",
    "\n",
    "mean_weekly_index_return = weekly_returns['Index Return'].mean()\n",
    "std_weekly_index_return = weekly_returns['Index Return'].std()\n",
    "\n",
    "# Вывод средних значений и стандартного отклонения недельных доходов\n",
    "print(f\"Mean Weekly Return for the Kelly + LTSM + GA: {mean_weekly_portfolio_return * 100:.2f}%\")\n",
    "print(f\"Standard Deviation of Weekly Returns for the Kelly + LTSM + GA: {std_weekly_portfolio_return * 100:.2f}%\")\n",
    "print(f\"Mean Weekly Return for the S&P 500: {mean_weekly_index_return * 100:.2f}%\")\n",
    "print(f\"Standard Deviation of Weekly Returns for the S&P 500: {std_weekly_index_return * 100:.2f}%\")\n",
    "\n",
    "# Визуализация недельной доходности - ПИЩА НА ПОДУМАТЬ (взять больший период данных)\n",
    "# plt.figure(figsize=(12, 6))\n",
    "# plt.plot(weekly_returns['Week'].dt.start_time, weekly_returns['Portfolio Return'] * 100, label='Portfolio Weekly Return')\n",
    "# plt.plot(weekly_returns['Week'].dt.start_time, weekly_returns['Index Return'] * 100, label='S&P 500 Weekly Return')\n",
    "# plt.xlabel('Дата')\n",
    "# plt.ylabel('Недельная доходность (%)')\n",
    "# plt.title('Недельная доходность портфелей')\n",
    "# plt.legend()\n",
    "# plt.grid(True)\n",
    "# plt.show()\n",
    "\n",
    "# # Сохранение графика недельной доходности\n",
    "# plt.figure(figsize=(12, 6))\n",
    "# plt.plot(weekly_returns['Week'].dt.start_time, weekly_returns['Portfolio Return'] * 100, label='Portfolio Weekly Return')\n",
    "# plt.plot(weekly_returns['Week'].dt.start_time, weekly_returns['Index Return'] * 100, label='S&P 500 Weekly Return')\n",
    "# plt.xlabel('Date')\n",
    "# plt.ylabel('Weekly Return (%)')\n",
    "# plt.title('Weekly Returns Comparison')\n",
    "# plt.legend()\n",
    "# plt.grid(True)\n",
    "# plt.savefig(f'reports/weekly_return_comparision.png')\n",
    "# plt.close()\n",
    "\n",
    "# print(\"График сохранен в 'reports/weekly_return_comparision.png'\")"
   ]
  },
  {
   "cell_type": "code",
   "execution_count": 121,
   "id": "2bf911fe-1954-4b5b-b1fb-fea4b2f34990",
   "metadata": {
    "tags": []
   },
   "outputs": [
    {
     "name": "stdout",
     "output_type": "stream",
     "text": [
      "Информация о портфеле сохранена в 'portfolio_history.csv'\n"
     ]
    }
   ],
   "source": [
    "# Сохранение истории портфеля в CSV\n",
    "portfolio_records = []\n",
    "\n",
    "for entry in portfolio_history:\n",
    "    date = entry['Date']\n",
    "    portfolio_return = entry['Return']\n",
    "    sp500_return = entry['SP500 Return']\n",
    "    for ticker, info in entry['Portfolio'].items():\n",
    "        portfolio_records.append({\n",
    "            'Date': date,\n",
    "            'Ticker': ticker,\n",
    "            'Investment Fraction': info['Investment Fraction'],\n",
    "            'Portfolio Return': portfolio_return,\n",
    "            'SP500 Return': sp500_return\n",
    "        })\n",
    "\n",
    "portfolio_df = pd.DataFrame(portfolio_records)\n",
    "portfolio_df.to_csv('data/portfolio_history.csv', index=False)\n",
    "print(\"Информация о портфеле сохранена в 'portfolio_history.csv'\")"
   ]
  },
  {
   "cell_type": "code",
   "execution_count": 217,
   "id": "f945f79e-f939-465f-833d-9b65288d6888",
   "metadata": {
    "tags": []
   },
   "outputs": [
    {
     "data": {
      "image/png": "[encoded data removed]",
      "text/plain": [
       "<Figure size 1400x800 with 1 Axes>"
      ]
     },
     "metadata": {},
     "output_type": "display_data"
    },
    {
     "name": "stdout",
     "output_type": "stream",
     "text": [
      "График кумулятивной доходности и просадок сохранен в 'reports/cumulative_and_drawdowns.png'\n"
     ]
    }
   ],
   "source": [
    "import pandas as pd\n",
    "import numpy as np\n",
    "import matplotlib.pyplot as plt\n",
    "\n",
    "# Функция для расчета максимальной просадки\n",
    "def max_drawdown(return_series):\n",
    "    cumulative = (1 + return_series).cumprod()\n",
    "    peak = cumulative.cummax()\n",
    "    drawdown = (cumulative - peak) / peak\n",
    "    return drawdown\n",
    "\n",
    "# Функция для расчета CAGR\n",
    "def calculate_cagr(return_series, periods_per_year=52):\n",
    "    total_return = (1 + return_series).cumprod().iloc[-1] - 1\n",
    "    num_years = len(return_series) / periods_per_year\n",
    "    cagr = (1 + total_return) ** (1 / num_years) - 1\n",
    "    return cagr\n",
    "\n",
    "# Создание DataFrame для сравнения\n",
    "comparison_df = pd.DataFrame({\n",
    "    'Date': dates,  # Даты, которые ты уже должен иметь в переменной `dates`\n",
    "    'Portfolio Return': portfolio_returns,  # Данные о доходности твоего портфеля\n",
    "    'Index Return': index_returns  # Доходность S&P 500 или другого индекса\n",
    "})\n",
    "\n",
    "# Вычисляем кумулятивную доходность для обоих портфелей\n",
    "comparison_df['Portfolio Cumulative Return'] = (1 + comparison_df['Portfolio Return']).cumprod() - 1\n",
    "comparison_df['Index Cumulative Return'] = (1 + comparison_df['Index Return']).cumprod() - 1\n",
    "\n",
    "# Вычисление максимальной просадки на каждый момент времени\n",
    "comparison_df['Portfolio Drawdown'] = max_drawdown(comparison_df['Portfolio Return'])\n",
    "comparison_df['Index Drawdown'] = max_drawdown(comparison_df['Index Return'])\n",
    "\n",
    "# Визуализация кумулятивной доходности и просадок на одном графике\n",
    "plt.figure(figsize=(14, 8))\n",
    "\n",
    "# Кумулятивная доходность (линейный график)\n",
    "plt.plot(comparison_df['Date'], comparison_df['Portfolio Cumulative Return'] * 100, label='Portfolio Cumulative Return', color='blue')\n",
    "plt.plot(comparison_df['Date'], comparison_df['Index Cumulative Return'] * 100, label='S&P 500 Cumulative Return', color='orange')\n",
    "\n",
    "# Просадки (бар-чарт)\n",
    "plt.bar(comparison_df['Date'], comparison_df['Portfolio Drawdown'] * 100, label='Portfolio Drawdown', color='blue', alpha=0.3)\n",
    "plt.bar(comparison_df['Date'], comparison_df['Index Drawdown'] * 100, label='S&P 500 Drawdown', color='orange', alpha=0.3)\n",
    "\n",
    "# Добавляем горизонтальную ось на уровне 0 (темно-серого цвета)\n",
    "plt.axhline(0, color='darkgray', linewidth=1.5)\n",
    "\n",
    "# Настройки графика\n",
    "plt.title('Cumulative Return and Drawdowns Over Time')\n",
    "plt.ylabel('Cumulative Return / Drawdown (%)')\n",
    "plt.xlabel('Date')\n",
    "plt.legend()\n",
    "plt.grid(True)\n",
    "\n",
    "plt.tight_layout()\n",
    "plt.show()\n",
    "\n",
    "# Сохранение графиков в файл\n",
    "plt.figure(figsize=(14, 8))\n",
    "\n",
    "# Кумулятивная доходность (линейный график)\n",
    "plt.plot(comparison_df['Date'], comparison_df['Portfolio Cumulative Return'] * 100, label='Portfolio Cumulative Return', color='blue')\n",
    "plt.plot(comparison_df['Date'], comparison_df['Index Cumulative Return'] * 100, label='S&P 500 Cumulative Return', color='orange')\n",
    "\n",
    "# Просадки (бар-чарт)\n",
    "plt.bar(comparison_df['Date'], comparison_df['Portfolio Drawdown'] * 100, label='Portfolio Drawdown', color='blue', alpha=0.3)\n",
    "plt.bar(comparison_df['Date'], comparison_df['Index Drawdown'] * 100, label='S&P 500 Drawdown', color='orange', alpha=0.3)\n",
    "\n",
    "# Добавляем горизонтальную ось на уровне 0 (темно-серого цвета)\n",
    "plt.axhline(0, color='darkgray', linewidth=1.5)\n",
    "\n",
    "# Настройки графика\n",
    "plt.title('Cumulative Return and Drawdowns Over Time')\n",
    "plt.ylabel('Cumulative Return / Drawdown (%)')\n",
    "plt.xlabel('Date')\n",
    "plt.legend()\n",
    "plt.grid(True)\n",
    "\n",
    "plt.tight_layout()\n",
    "plt.savefig('reports/cumulative_and_drawdowns.png')\n",
    "plt.close()\n",
    "\n",
    "print(\"График кумулятивной доходности и просадок сохранен в 'reports/cumulative_and_drawdowns.png'\")"
   ]
  },
  {
   "cell_type": "code",
   "execution_count": 139,
   "id": "2bb0bc43-3f71-4df7-a015-345e4285ede8",
   "metadata": {},
   "outputs": [
    {
     "name": "stdout",
     "output_type": "stream",
     "text": [
      "P-значение теста нормальности для доходностей портфеля: 0.9016961455345154\n",
      "P-значение теста нормальности для доходностей S&P 500: 0.7629024982452393\n",
      "P-значение парного t-теста: 0.26852494273813443\n",
      "Коэффициент Sortino для портфеля: 0.22534833624096112\n",
      "Коэффициент Sortino для S&P 500: -0.03244451737681494\n",
      "Коэффициент Calmar для портфеля: 1.6331222669271044\n",
      "Коэффициент Calmar для S&P 500: -0.28653402071440354\n"
     ]
    }
   ],
   "source": [
    "# Преобразуем доходности в numpy массивы\n",
    "portfolio_returns_array = np.array(portfolio_returns)\n",
    "index_returns_array = np.array(index_returns)\n",
    "\n",
    "# Проверка нормальности распределения доходностей\n",
    "stat_portfolio, p_portfolio = shapiro(portfolio_returns_array)\n",
    "stat_index, p_index = shapiro(index_returns_array)\n",
    "\n",
    "print(f\"P-значение теста нормальности для доходностей портфеля: {p_portfolio}\")\n",
    "print(f\"P-значение теста нормальности для доходностей S&P 500: {p_index}\")\n",
    "\n",
    "# Выбор подходящего статистического теста\n",
    "if p_portfolio > 0.05 and p_index > 0.05:\n",
    "    # Оба распределения нормальны\n",
    "    t_stat, p_value = ttest_rel(portfolio_returns_array, index_returns_array)\n",
    "    print(f\"P-значение парного t-теста: {p_value}\")\n",
    "else:\n",
    "    # Используем непараметрический тест\n",
    "    stat, p_value = wilcoxon(portfolio_returns_array - index_returns_array)\n",
    "    print(f\"P-значение теста Уилкоксона: {p_value}\")\n",
    "\n",
    "# Расчет коэффициента Calmar\n",
    "def calculate_cagr(returns, periods_per_year):\n",
    "    total_return = np.prod([1 + r for r in returns]) - 1\n",
    "    num_periods = len(returns)\n",
    "    cagr = (1 + total_return) ** (periods_per_year / num_periods) - 1\n",
    "    return cagr"
   ]
  },
  {
   "cell_type": "code",
   "execution_count": null,
   "id": "855d902f-ed28-47ed-bb8d-06135594193c",
   "metadata": {},
   "outputs": [],
   "source": []
  }
 ],
 "metadata": {
  "kernelspec": {
   "display_name": "Python 3 (ipykernel)",
   "language": "python",
   "name": "python3"
  },
  "language_info": {
   "codemirror_mode": {
    "name": "ipython",
    "version": 3
   },
   "file_extension": ".py",
   "mimetype": "text/x-python",
   "name": "python",
   "nbconvert_exporter": "python",
   "pygments_lexer": "ipython3",
   "version": "3.11.5"
  }
 },
 "nbformat": 4,
 "nbformat_minor": 5
}
